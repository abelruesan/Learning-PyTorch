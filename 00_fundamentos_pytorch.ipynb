{
  "nbformat": 4,
  "nbformat_minor": 0,
  "metadata": {
    "colab": {
      "provenance": [],
      "gpuType": "T4",
      "authorship_tag": "ABX9TyOai2IHehN2rKSMptKOGim9"
    },
    "kernelspec": {
      "name": "python3",
      "display_name": "Python 3"
    },
    "language_info": {
      "name": "python"
    },
    "accelerator": "GPU"
  },
  "cells": [
    {
      "cell_type": "markdown",
      "source": [
        "## 00. Fundamentos de Pytorch\n",
        "\n",
        "Vídeo de referencia: https://www.youtube.com/watch?v=Z_ikDlimN6A&t=3521s\n",
        "\n",
        "Documentación de Pytorch: https://pytorch.org/docs/stable/index.html"
      ],
      "metadata": {
        "id": "tLoURyCMW2gV"
      }
    },
    {
      "cell_type": "code",
      "source": [
        "import torch\n",
        "import pandas as pd\n",
        "import numpy as np\n",
        "import matplotlib.pyplot as plt"
      ],
      "metadata": {
        "id": "I7SGxd9iXRtM"
      },
      "execution_count": 3,
      "outputs": []
    },
    {
      "cell_type": "markdown",
      "source": [
        "## Introducción a los tensores\n",
        "\n",
        "Vídeo para entender el concepto de tensores: https://youtu.be/f5liqUk0ZTw\n",
        "\n",
        "###Teoría:\n",
        "\n",
        "* Los tensores se crean utilizando `torch.tensor()`\n",
        "\n",
        "* Para ver la dimensión de un tensor : `nombre.ndim`\n",
        "\n",
        "* Truco para saber la dimensión de un tensor: la dimensión coincide con el número de corchetes a la hora de declarar el tensor. Por ejemplo, un vector es un tensor de dimensión 1, ya que se utiliza un corchete, la matriz 2 y así.\n",
        "\n",
        "* Para ver el valor almacenado en el tensor: `nombre.item()\n",
        "`\n",
        "\n",
        "* Los tensores son indexables, luego se puede acceder a la información mediante `nombre[indice]`\n"
      ],
      "metadata": {
        "id": "f2IpWXwZXWx6"
      }
    },
    {
      "cell_type": "code",
      "source": [
        "# Escalar\n",
        "scalar = torch.tensor(7)\n",
        "scalar"
      ],
      "metadata": {
        "colab": {
          "base_uri": "https://localhost:8080/",
          "height": 0
        },
        "id": "CKV740y9NVgD",
        "outputId": "fa3cc68d-e06b-43d5-8d29-30f832760c52"
      },
      "execution_count": 4,
      "outputs": [
        {
          "output_type": "execute_result",
          "data": {
            "text/plain": [
              "tensor(7)"
            ]
          },
          "metadata": {},
          "execution_count": 4
        }
      ]
    },
    {
      "cell_type": "code",
      "source": [
        "scalar.ndim"
      ],
      "metadata": {
        "colab": {
          "base_uri": "https://localhost:8080/",
          "height": 0
        },
        "id": "UBosbIVbY97R",
        "outputId": "517c7b08-4f98-4671-8920-50661a52c747"
      },
      "execution_count": 5,
      "outputs": [
        {
          "output_type": "execute_result",
          "data": {
            "text/plain": [
              "0"
            ]
          },
          "metadata": {},
          "execution_count": 5
        }
      ]
    },
    {
      "cell_type": "code",
      "source": [
        "scalar.item()"
      ],
      "metadata": {
        "colab": {
          "base_uri": "https://localhost:8080/",
          "height": 0
        },
        "id": "eK3gwLQkZhsT",
        "outputId": "83b8dc8f-c433-4d3f-99e8-2ea92d1cd728"
      },
      "execution_count": 6,
      "outputs": [
        {
          "output_type": "execute_result",
          "data": {
            "text/plain": [
              "7"
            ]
          },
          "metadata": {},
          "execution_count": 6
        }
      ]
    },
    {
      "cell_type": "code",
      "source": [
        "# Vector\n",
        "vector = torch.tensor([7, 7])\n",
        "vector"
      ],
      "metadata": {
        "colab": {
          "base_uri": "https://localhost:8080/",
          "height": 0
        },
        "id": "otrWx3BXZlw_",
        "outputId": "e934b286-065a-4ebd-9294-33f0eb5a8cf7"
      },
      "execution_count": 7,
      "outputs": [
        {
          "output_type": "execute_result",
          "data": {
            "text/plain": [
              "tensor([7, 7])"
            ]
          },
          "metadata": {},
          "execution_count": 7
        }
      ]
    },
    {
      "cell_type": "code",
      "source": [
        "vector.ndim"
      ],
      "metadata": {
        "colab": {
          "base_uri": "https://localhost:8080/",
          "height": 0
        },
        "id": "SuHJCjQybBBo",
        "outputId": "46364bce-45aa-4728-cd71-24bffccb0062"
      },
      "execution_count": 8,
      "outputs": [
        {
          "output_type": "execute_result",
          "data": {
            "text/plain": [
              "1"
            ]
          },
          "metadata": {},
          "execution_count": 8
        }
      ]
    },
    {
      "cell_type": "code",
      "source": [
        "# MATRIZ\n",
        "MATRIZ = torch.tensor([[1, 2],\n",
        "                       [3, 4]])\n",
        "MATRIZ"
      ],
      "metadata": {
        "colab": {
          "base_uri": "https://localhost:8080/",
          "height": 0
        },
        "id": "8WJVM-SubDwC",
        "outputId": "c5cbb05a-4c80-4569-d298-bf107219ad56"
      },
      "execution_count": 9,
      "outputs": [
        {
          "output_type": "execute_result",
          "data": {
            "text/plain": [
              "tensor([[1, 2],\n",
              "        [3, 4]])"
            ]
          },
          "metadata": {},
          "execution_count": 9
        }
      ]
    },
    {
      "cell_type": "code",
      "source": [
        "MATRIZ.ndim"
      ],
      "metadata": {
        "colab": {
          "base_uri": "https://localhost:8080/",
          "height": 0
        },
        "id": "q3SYt_WTdIhr",
        "outputId": "a866ec7a-9174-440c-c5a3-b4e5c5e2a851"
      },
      "execution_count": 10,
      "outputs": [
        {
          "output_type": "execute_result",
          "data": {
            "text/plain": [
              "2"
            ]
          },
          "metadata": {},
          "execution_count": 10
        }
      ]
    },
    {
      "cell_type": "code",
      "source": [
        "MATRIZ.shape"
      ],
      "metadata": {
        "colab": {
          "base_uri": "https://localhost:8080/",
          "height": 0
        },
        "id": "Y0DABSrZdKEN",
        "outputId": "3099d68a-7f88-476f-8d97-c49652cd7059"
      },
      "execution_count": 11,
      "outputs": [
        {
          "output_type": "execute_result",
          "data": {
            "text/plain": [
              "torch.Size([2, 2])"
            ]
          },
          "metadata": {},
          "execution_count": 11
        }
      ]
    },
    {
      "cell_type": "code",
      "source": [
        "MATRIZ[0][1].item()"
      ],
      "metadata": {
        "colab": {
          "base_uri": "https://localhost:8080/",
          "height": 0
        },
        "id": "VdYxU5yNdMsM",
        "outputId": "1cc8cfd9-5d89-4f4e-d787-27c85cc61558"
      },
      "execution_count": 12,
      "outputs": [
        {
          "output_type": "execute_result",
          "data": {
            "text/plain": [
              "2"
            ]
          },
          "metadata": {},
          "execution_count": 12
        }
      ]
    },
    {
      "cell_type": "code",
      "source": [
        "# TENSOR\n",
        "TENSOR = torch.tensor([[[1, 2, 3],\n",
        "                        [4, 5, 6],\n",
        "                        [7, 8, 9]],\n",
        "                       [[9, 8, 7],\n",
        "                        [6, 5, 4],\n",
        "                        [3, 2, 1]]])\n",
        "TENSOR"
      ],
      "metadata": {
        "colab": {
          "base_uri": "https://localhost:8080/",
          "height": 0
        },
        "id": "6sFsxNjcdRV3",
        "outputId": "1d73421f-afa7-4992-d02a-b3ca6b71079f"
      },
      "execution_count": 13,
      "outputs": [
        {
          "output_type": "execute_result",
          "data": {
            "text/plain": [
              "tensor([[[1, 2, 3],\n",
              "         [4, 5, 6],\n",
              "         [7, 8, 9]],\n",
              "\n",
              "        [[9, 8, 7],\n",
              "         [6, 5, 4],\n",
              "         [3, 2, 1]]])"
            ]
          },
          "metadata": {},
          "execution_count": 13
        }
      ]
    },
    {
      "cell_type": "code",
      "source": [
        "TENSOR.ndim"
      ],
      "metadata": {
        "colab": {
          "base_uri": "https://localhost:8080/",
          "height": 0
        },
        "id": "aafKuhsfdybQ",
        "outputId": "e2c0cce1-5515-4cd4-8cbd-8028e505baff"
      },
      "execution_count": 14,
      "outputs": [
        {
          "output_type": "execute_result",
          "data": {
            "text/plain": [
              "3"
            ]
          },
          "metadata": {},
          "execution_count": 14
        }
      ]
    },
    {
      "cell_type": "code",
      "source": [
        "TENSOR.shape"
      ],
      "metadata": {
        "colab": {
          "base_uri": "https://localhost:8080/",
          "height": 0
        },
        "id": "ju9TPmdBd0GZ",
        "outputId": "2351977a-bf2c-4039-9348-44376de909a8"
      },
      "execution_count": 15,
      "outputs": [
        {
          "output_type": "execute_result",
          "data": {
            "text/plain": [
              "torch.Size([2, 3, 3])"
            ]
          },
          "metadata": {},
          "execution_count": 15
        }
      ]
    },
    {
      "cell_type": "code",
      "source": [
        "TENSOR[0][1][2].item()"
      ],
      "metadata": {
        "colab": {
          "base_uri": "https://localhost:8080/",
          "height": 0
        },
        "id": "YVpu_bYwd1zB",
        "outputId": "7b4334d5-f2e0-43be-950a-6121484884bf"
      },
      "execution_count": 16,
      "outputs": [
        {
          "output_type": "execute_result",
          "data": {
            "text/plain": [
              "6"
            ]
          },
          "metadata": {},
          "execution_count": 16
        }
      ]
    },
    {
      "cell_type": "code",
      "source": [
        "TENSOR[1][2][0].item()"
      ],
      "metadata": {
        "colab": {
          "base_uri": "https://localhost:8080/",
          "height": 0
        },
        "id": "Z1ES-L9Yd6CA",
        "outputId": "4efab8f3-a25b-4e27-bd9b-20d625c8d20e"
      },
      "execution_count": 17,
      "outputs": [
        {
          "output_type": "execute_result",
          "data": {
            "text/plain": [
              "3"
            ]
          },
          "metadata": {},
          "execution_count": 17
        }
      ]
    },
    {
      "cell_type": "markdown",
      "source": [
        "### Tensores aleatorios\n",
        "\n",
        "Los tensores aleatorios son importantes ya que generalmetne se crea un tensor con números aleatorios y luego nuestro modelo ajusta eso valores aleatorios a los datos que tenemos."
      ],
      "metadata": {
        "id": "97CsYGeF6S7R"
      }
    },
    {
      "cell_type": "code",
      "source": [
        "# Crear un tensor de cualquier tamaño o shape\n",
        "tensor_aleatorio = torch.rand(2, 4, 3)\n",
        "tensor_aleatorio"
      ],
      "metadata": {
        "colab": {
          "base_uri": "https://localhost:8080/",
          "height": 0
        },
        "id": "2y9AQ4yg6Hz1",
        "outputId": "992cb2a4-512e-4e55-9dbf-848f0355c5e5"
      },
      "execution_count": 18,
      "outputs": [
        {
          "output_type": "execute_result",
          "data": {
            "text/plain": [
              "tensor([[[0.6954, 0.1871, 0.5544],\n",
              "         [0.9477, 0.2929, 0.0835],\n",
              "         [0.2947, 0.3291, 0.3794],\n",
              "         [0.8761, 0.9380, 0.8634]],\n",
              "\n",
              "        [[0.6909, 0.0448, 0.5036],\n",
              "         [0.4745, 0.6899, 0.4872],\n",
              "         [0.4506, 0.1233, 0.4117],\n",
              "         [0.3087, 0.6961, 0.3329]]])"
            ]
          },
          "metadata": {},
          "execution_count": 18
        }
      ]
    },
    {
      "cell_type": "code",
      "source": [
        "tensor_aleatorio.ndim"
      ],
      "metadata": {
        "colab": {
          "base_uri": "https://localhost:8080/",
          "height": 0
        },
        "id": "Rzh_MqDd7-aX",
        "outputId": "162729ea-5e69-42ba-d013-5c2628b36e95"
      },
      "execution_count": 19,
      "outputs": [
        {
          "output_type": "execute_result",
          "data": {
            "text/plain": [
              "3"
            ]
          },
          "metadata": {},
          "execution_count": 19
        }
      ]
    },
    {
      "cell_type": "code",
      "source": [
        "tensor_aleatorio[1][2][2].item()"
      ],
      "metadata": {
        "colab": {
          "base_uri": "https://localhost:8080/",
          "height": 0
        },
        "id": "cNg4bXwy8EGf",
        "outputId": "f7e84489-b948-414c-d6e4-a50991bf6ed8"
      },
      "execution_count": 20,
      "outputs": [
        {
          "output_type": "execute_result",
          "data": {
            "text/plain": [
              "0.41167163848876953"
            ]
          },
          "metadata": {},
          "execution_count": 20
        }
      ]
    },
    {
      "cell_type": "code",
      "source": [
        "# Tensor de formato imagen: colores, altura, anchura\n",
        "tensor_imagen = torch.rand(3, 244, 244)\n",
        "tensor_imagen.shape, tensor_imagen.ndim"
      ],
      "metadata": {
        "colab": {
          "base_uri": "https://localhost:8080/",
          "height": 0
        },
        "id": "0pYthDlM8NKD",
        "outputId": "e19c49f2-439a-4e10-e02c-d0988ba4b679"
      },
      "execution_count": 21,
      "outputs": [
        {
          "output_type": "execute_result",
          "data": {
            "text/plain": [
              "(torch.Size([3, 244, 244]), 3)"
            ]
          },
          "metadata": {},
          "execution_count": 21
        }
      ]
    },
    {
      "cell_type": "markdown",
      "source": [
        "### Tensores de unos y ceros\n"
      ],
      "metadata": {
        "id": "e_cg9R-Y9cl7"
      }
    },
    {
      "cell_type": "code",
      "source": [
        "# Crear tensor con 0\n",
        "ceros = torch.zeros(4, 1)\n",
        "tensor_prueba = torch.rand(4, 4)\n",
        "tensor_prueba * ceros"
      ],
      "metadata": {
        "colab": {
          "base_uri": "https://localhost:8080/",
          "height": 0
        },
        "id": "zC31HvLU-YqM",
        "outputId": "811afa1c-fc42-4f09-efe0-df435eedefc4"
      },
      "execution_count": 22,
      "outputs": [
        {
          "output_type": "execute_result",
          "data": {
            "text/plain": [
              "tensor([[0., 0., 0., 0.],\n",
              "        [0., 0., 0., 0.],\n",
              "        [0., 0., 0., 0.],\n",
              "        [0., 0., 0., 0.]])"
            ]
          },
          "metadata": {},
          "execution_count": 22
        }
      ]
    },
    {
      "cell_type": "code",
      "source": [
        "# Crear tensor con 1\n",
        "unos = torch.ones(3, 3)\n",
        "unos"
      ],
      "metadata": {
        "colab": {
          "base_uri": "https://localhost:8080/",
          "height": 0
        },
        "id": "ejrSZMuP-0ly",
        "outputId": "b69b9d67-839f-4302-e1d5-66655bc6f1af"
      },
      "execution_count": 23,
      "outputs": [
        {
          "output_type": "execute_result",
          "data": {
            "text/plain": [
              "tensor([[1., 1., 1.],\n",
              "        [1., 1., 1.],\n",
              "        [1., 1., 1.]])"
            ]
          },
          "metadata": {},
          "execution_count": 23
        }
      ]
    },
    {
      "cell_type": "markdown",
      "source": [
        "### Crear rango de tensores y tensores tipo\n",
        "\n",
        "Los tensores tipo sirven para crear tensores de la misma dimensión que otro, sin tener que conocer cuál es esta dimensión.\n",
        "\n",
        "Estos se pueden crear con zeros usando `torch.zeros_like(nombre)`, pero no con valores aleatorios"
      ],
      "metadata": {
        "id": "yIeZl-5i_fNH"
      }
    },
    {
      "cell_type": "code",
      "source": [
        "# El arange funciona igual que el range en Python\n",
        "rango = torch.arange(1, 20, 2)\n",
        "rango.shape"
      ],
      "metadata": {
        "colab": {
          "base_uri": "https://localhost:8080/",
          "height": 0
        },
        "id": "uWal1M7c_iJ-",
        "outputId": "d1670de3-7e62-4bb1-b9d0-1f9d04b08981"
      },
      "execution_count": 24,
      "outputs": [
        {
          "output_type": "execute_result",
          "data": {
            "text/plain": [
              "torch.Size([10])"
            ]
          },
          "metadata": {},
          "execution_count": 24
        }
      ]
    },
    {
      "cell_type": "code",
      "source": [
        "# Tensores tipos de 0\n",
        "replica_ceros = torch.zeros_like(rango)\n",
        "replica_ceros, replica_ceros.shape"
      ],
      "metadata": {
        "colab": {
          "base_uri": "https://localhost:8080/",
          "height": 0
        },
        "id": "QgLO-j5d_scg",
        "outputId": "1cb08568-5689-4482-f5f0-3e82dcae948f"
      },
      "execution_count": 25,
      "outputs": [
        {
          "output_type": "execute_result",
          "data": {
            "text/plain": [
              "(tensor([0, 0, 0, 0, 0, 0, 0, 0, 0, 0]), torch.Size([10]))"
            ]
          },
          "metadata": {},
          "execution_count": 25
        }
      ]
    },
    {
      "cell_type": "markdown",
      "source": [
        "### Parámetros\n",
        "\n",
        "Los tres parámetros más importantes en la creación de tensores son:\n",
        "\n",
        "*   `dtype`: Esto es el tipo de datos del tensor. Puede ser `torch.float16` o `torch.float32` o `torch.float64`. A mayor precisión (mayor valor númerico), menos velocdiad de cálculo.\n",
        "*   `device`: El dispositivo en el que se encuentra el tensor. Puede ser CPU o GPU.\n",
        "* `requires_grad`: Si queremos trabajar con el gradiente, lo veremos más adelante.\n"
      ],
      "metadata": {
        "id": "va6SR0jJF7Wo"
      }
    },
    {
      "cell_type": "code",
      "source": [
        "tensor_float_16 = torch.tensor([[3, 4],\n",
        "                                [9, 8]],\n",
        "                               dtype = torch.float16,\n",
        "                               device = None,\n",
        "                               requires_grad = False)\n",
        "tensor_float_16"
      ],
      "metadata": {
        "colab": {
          "base_uri": "https://localhost:8080/",
          "height": 0
        },
        "id": "eF5pIr57HSbB",
        "outputId": "e7c1c6e8-cbb9-4cff-a816-4516f40c0f0e"
      },
      "execution_count": 26,
      "outputs": [
        {
          "output_type": "execute_result",
          "data": {
            "text/plain": [
              "tensor([[3., 4.],\n",
              "        [9., 8.]], dtype=torch.float16)"
            ]
          },
          "metadata": {},
          "execution_count": 26
        }
      ]
    },
    {
      "cell_type": "code",
      "source": [
        "tensor_float_16.dtype"
      ],
      "metadata": {
        "colab": {
          "base_uri": "https://localhost:8080/",
          "height": 0
        },
        "id": "9LRm7Qp0HtXc",
        "outputId": "3872b454-f869-4c50-ed34-31d00de613c1"
      },
      "execution_count": 27,
      "outputs": [
        {
          "output_type": "execute_result",
          "data": {
            "text/plain": [
              "torch.float16"
            ]
          },
          "metadata": {},
          "execution_count": 27
        }
      ]
    },
    {
      "cell_type": "code",
      "source": [
        "# Cambiar tipo de datos de un tensor\n",
        "tensor_float_32 = tensor_float_16.type(torch.float32)\n",
        "tensor_float_32.dtype"
      ],
      "metadata": {
        "colab": {
          "base_uri": "https://localhost:8080/",
          "height": 0
        },
        "id": "MepnwzfBIAqB",
        "outputId": "2eda7f20-e6de-4b4d-8fb7-19023ba48b1b"
      },
      "execution_count": 28,
      "outputs": [
        {
          "output_type": "execute_result",
          "data": {
            "text/plain": [
              "torch.float32"
            ]
          },
          "metadata": {},
          "execution_count": 28
        }
      ]
    },
    {
      "cell_type": "markdown",
      "source": [
        "### Errores\n",
        "\n",
        "Los tres errores principales a la hora de trabajar con tesnores son:\n",
        "* Tensores con tipos de datos diferentes.\n",
        "* Tensores con una forma incorrecta (relacionado con la multiplicación).\n",
        "* Tensor en dispositivos incorrectos (no se puede trabajar con tensores que se encuentren en diferentes dispositivos, uno en CPU y otro en GPU)."
      ],
      "metadata": {
        "id": "MUvjbACJG3fI"
      }
    },
    {
      "cell_type": "code",
      "source": [
        "# Desmostración del error 1, el resultado es el tensor más preciso\n",
        "resultado = tensor_float_16 * tensor_float_32\n",
        "resultado, resultado.dtype"
      ],
      "metadata": {
        "colab": {
          "base_uri": "https://localhost:8080/",
          "height": 0
        },
        "id": "DpIvi-r0HPL7",
        "outputId": "f707c012-3f01-4334-ab3e-f35f69e2727a"
      },
      "execution_count": 29,
      "outputs": [
        {
          "output_type": "execute_result",
          "data": {
            "text/plain": [
              "(tensor([[ 9., 16.],\n",
              "         [81., 64.]]),\n",
              " torch.float32)"
            ]
          },
          "metadata": {},
          "execution_count": 29
        }
      ]
    },
    {
      "cell_type": "markdown",
      "source": [
        "### Tomar información de los tensores\n",
        "\n",
        "* `nombre.shape` nos dice la estructura del tensor. Por ejemplo si una matriz es 2x2 nos dara [2, 2] y así igual con tensores de mayor dimensión.\n",
        "\n",
        "* Para ver el tipo de dato se utiliza `nombre.dtype`\n",
        "\n",
        "* Para ver el dispositivo del tensor se utiliza `tensor.device`"
      ],
      "metadata": {
        "id": "ft1_1qnmKBhd"
      }
    },
    {
      "cell_type": "code",
      "source": [
        "tensor_prueba = torch.rand((2, 4, 3), dtype=torch.float16)"
      ],
      "metadata": {
        "id": "b9Yu7KwEKF3V"
      },
      "execution_count": 30,
      "outputs": []
    },
    {
      "cell_type": "code",
      "source": [
        "print(tensor_prueba)\n",
        "print(f\"\\nTipo de datos: {tensor_prueba.dtype}\")\n",
        "print(f\"Forma: {tensor_prueba.shape}\")\n",
        "print(f\"Dispositivo: {tensor_prueba.device}\")"
      ],
      "metadata": {
        "colab": {
          "base_uri": "https://localhost:8080/",
          "height": 0
        },
        "id": "Im-ve02VKQxr",
        "outputId": "aedaecd4-2175-4952-8f58-9acb387ff979"
      },
      "execution_count": 31,
      "outputs": [
        {
          "output_type": "stream",
          "name": "stdout",
          "text": [
            "tensor([[[0.4932, 0.3154, 0.3267],\n",
            "         [0.9531, 0.1914, 0.7612],\n",
            "         [0.1162, 0.1816, 0.7368],\n",
            "         [0.4800, 0.4688, 0.0898]],\n",
            "\n",
            "        [[0.8511, 0.6938, 0.1011],\n",
            "         [0.0322, 0.4155, 0.6826],\n",
            "         [0.2808, 0.1343, 0.2031],\n",
            "         [0.1401, 0.4072, 0.7905]]], dtype=torch.float16)\n",
            "\n",
            "Tipo de datos: torch.float16\n",
            "Forma: torch.Size([2, 4, 3])\n",
            "Dispositivo: cpu\n"
          ]
        }
      ]
    },
    {
      "cell_type": "code",
      "source": [
        "# Cambiar el tipo de datos del tensor\n",
        "tensor_32 = tensor_prueba.type(torch.float32)\n",
        "tensor_32.dtype"
      ],
      "metadata": {
        "colab": {
          "base_uri": "https://localhost:8080/",
          "height": 0
        },
        "id": "KKk_hysPKnG7",
        "outputId": "6b8f9783-c989-4d9d-8cf9-59c7aba09284"
      },
      "execution_count": 32,
      "outputs": [
        {
          "output_type": "execute_result",
          "data": {
            "text/plain": [
              "torch.float32"
            ]
          },
          "metadata": {},
          "execution_count": 32
        }
      ]
    },
    {
      "cell_type": "code",
      "source": [
        "# Cambiar el dispositivo de CPU a GPU\n",
        "tensor_gpu = tensor_prueba.to(\"cuda\")\n",
        "tensor_gpu.device"
      ],
      "metadata": {
        "colab": {
          "base_uri": "https://localhost:8080/",
          "height": 0
        },
        "id": "woAKGfNDL0lx",
        "outputId": "581d0dbd-3ed3-4d1b-c826-d52074190a63"
      },
      "execution_count": 34,
      "outputs": [
        {
          "output_type": "execute_result",
          "data": {
            "text/plain": [
              "device(type='cuda', index=0)"
            ]
          },
          "metadata": {},
          "execution_count": 34
        }
      ]
    },
    {
      "cell_type": "code",
      "source": [
        "# Cambiar el dispositivo de GPU a CPU\n",
        "tensor_cpu = tensor_gpu.to(\"cpu\")\n",
        "tensor_cpu.device"
      ],
      "metadata": {
        "colab": {
          "base_uri": "https://localhost:8080/",
          "height": 0
        },
        "id": "b5ygFA6lMoRo",
        "outputId": "fb13a90f-afaf-4e7b-e651-caa19d36d111"
      },
      "execution_count": 35,
      "outputs": [
        {
          "output_type": "execute_result",
          "data": {
            "text/plain": [
              "device(type='cpu')"
            ]
          },
          "metadata": {},
          "execution_count": 35
        }
      ]
    }
  ]
}